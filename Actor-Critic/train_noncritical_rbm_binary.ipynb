{
 "cells": [
  {
   "cell_type": "code",
   "execution_count": 1,
   "metadata": {},
   "outputs": [
    {
     "name": "stdout",
     "output_type": "stream",
     "text": [
      "Wall time: 3.98 s\n"
     ]
    }
   ],
   "source": [
    "%%time\n",
    "\n",
    "from rbm_binary import ising\n",
    "import time\n",
    "import numpy as np\n",
    "import matplotlib.pyplot as plt\n",
    "import pickle\n",
    "import os\n",
    "\n",
    "filename = 'sarsa-rbm-frozenlake-run1_binary.pkl'\n",
    "\n",
    "Ssize=7 #needed for minimum binary representation of the state (max - 64)\n",
    "Msize=3\n",
    "nhidden = 20\n",
    "size=nhidden+Ssize+Msize  #30 - 0.0027\n",
    "\n",
    "I = ising(size,Ssize,Msize)\n",
    "I.initialise_wiring()\n",
    "\n",
    "# RL\n",
    "total_episodes = 2 #10000\n",
    "max_steps = 100       # in Otsuka they are 250 but it's a different task\n",
    "Beta = np.linspace(0,15,total_episodes)\n",
    "\n",
    "I.SarsaLearning(total_episodes, max_steps, Beta)\n",
    "\n",
    "# Params to save\n",
    "params = {}\n",
    "params['Ssize']= Ssize\n",
    "params['Msize']= Msize\n",
    "params['nhidden'] = nhidden\n",
    "params['size'] = size\n",
    "params['total_episodes'] = total_episodes\n",
    "params['max_steps'] = max_steps\n",
    "params['Beta'] = Beta\n",
    "params['network_J'] = I.J\n",
    "params['network_h'] = I.h\n",
    "params['network_rewards'] = I.rewards\n",
    "\n",
    "\n",
    "# Save\n",
    "if not os.path.isfile(filename):\n",
    "    with open(filename, 'wb') as output:\n",
    "            pickle.dump(params, output, pickle.HIGHEST_PROTOCOL)\n",
    "else:\n",
    "    print(\"File already exists!\")\n",
    "\n",
    "# Output\n",
    "# I.env.render()\n",
    "# plt.plot(I.rewards)"
   ]
  },
  {
   "cell_type": "code",
   "execution_count": 2,
   "metadata": {},
   "outputs": [
    {
     "data": {
      "text/plain": [
       "[<matplotlib.lines.Line2D at 0x20d44f89788>]"
      ]
     },
     "execution_count": 2,
     "metadata": {},
     "output_type": "execute_result"
    },
    {
     "data": {
      "image/png": "[encoded data removed]",
      "text/plain": [
       "<Figure size 432x288 with 1 Axes>"
      ]
     },
     "metadata": {
      "needs_background": "light"
     },
     "output_type": "display_data"
    }
   ],
   "source": [
    "plt.plot(I.rewards)\n"
   ]
  }
 ],
 "metadata": {
  "kernelspec": {
   "display_name": "Python 3",
   "language": "python",
   "name": "python3"
  },
  "language_info": {
   "codemirror_mode": {
    "name": "ipython",
    "version": 3
   },
   "file_extension": ".py",
   "mimetype": "text/x-python",
   "name": "python",
   "nbconvert_exporter": "python",
   "pygments_lexer": "ipython3",
   "version": "3.7.5"
  }
 },
 "nbformat": 4,
 "nbformat_minor": 2
}
